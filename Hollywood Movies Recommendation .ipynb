{
 "cells": [
  {
   "cell_type": "code",
   "execution_count": 1,
   "metadata": {},
   "outputs": [],
   "source": [
    "import pandas as pd\n",
    "import numpy as np\n",
    "from sklearn.feature_extraction.text import CountVectorizer\n",
    "from sklearn.metrics.pairwise import cosine_similarity"
   ]
  },
  {
   "cell_type": "code",
   "execution_count": 2,
   "metadata": {},
   "outputs": [],
   "source": [
    "def get_title_from_index(index):\n",
    "    return df[df.index == index][\"title\"].values[0]\n",
    "    \n",
    "def get_index_from_title(title):\n",
    "    return df[df.title==title][\"index\"].values[0]"
   ]
  },
  {
   "cell_type": "code",
   "execution_count": 3,
   "metadata": {},
   "outputs": [],
   "source": [
    "df=pd.read_csv(r'E:\\ml\\movie_dataset.csv')"
   ]
  },
  {
   "cell_type": "code",
   "execution_count": 4,
   "metadata": {},
   "outputs": [],
   "source": [
    "features=[\"keywords\",\"cast\",\"genres\",\"director\"]"
   ]
  },
  {
   "cell_type": "code",
   "execution_count": 5,
   "metadata": {},
   "outputs": [],
   "source": [
    "for feature in features:\n",
    "    df[feature]=df[feature].fillna('')"
   ]
  },
  {
   "cell_type": "code",
   "execution_count": 6,
   "metadata": {},
   "outputs": [],
   "source": [
    "def combine_feature(row):\n",
    "    try:\n",
    "        return row['keywords']+\" \"+row['cast']+\" \"+row['genres']+\" \"+row['director']\n",
    "    except:\n",
    "        print(\"Error\",row)"
   ]
  },
  {
   "cell_type": "code",
   "execution_count": 11,
   "metadata": {},
   "outputs": [],
   "source": [
    "df[\"combine_feature\"]=df.apply(combine_feature,axis=1)"
   ]
  },
  {
   "cell_type": "code",
   "execution_count": 13,
   "metadata": {},
   "outputs": [
    {
     "name": "stdout",
     "output_type": "stream",
     "text": [
      "Combined Features: 0    culture clash future space war space colony so...\n",
      "1    ocean drug abuse exotic island east india trad...\n",
      "2    spy based on novel secret agent sequel mi6 Dan...\n",
      "3    dc comics crime fighter terrorist secret ident...\n",
      "4    based on novel mars medallion space travel pri...\n",
      "Name: combine_feature, dtype: object\n"
     ]
    }
   ],
   "source": [
    "print(\"Combined Features:\", df[\"combine_feature\"].head())"
   ]
  },
  {
   "cell_type": "code",
   "execution_count": 14,
   "metadata": {},
   "outputs": [
    {
     "name": "stdout",
     "output_type": "stream",
     "text": [
      "[[1.         0.10540926 0.12038585 ... 0.         0.         0.        ]\n",
      " [0.10540926 1.         0.0761387  ... 0.03651484 0.         0.        ]\n",
      " [0.12038585 0.0761387  1.         ... 0.         0.11145564 0.        ]\n",
      " ...\n",
      " [0.         0.03651484 0.         ... 1.         0.         0.04264014]\n",
      " [0.         0.         0.11145564 ... 0.         1.         0.        ]\n",
      " [0.         0.         0.         ... 0.04264014 0.         1.        ]]\n"
     ]
    }
   ],
   "source": [
    "cv = CountVectorizer()\n",
    "\n",
    "count_matrix = cv.fit_transform(df[\"combine_feature\"])\n",
    "\n",
    "\n",
    "cosine_sim = cosine_similarity(count_matrix) \n",
    "print(cosine_sim)"
   ]
  },
  {
   "cell_type": "code",
   "execution_count": 37,
   "metadata": {},
   "outputs": [],
   "source": [
    "user_movie=\"Scarface\""
   ]
  },
  {
   "cell_type": "code",
   "execution_count": 38,
   "metadata": {},
   "outputs": [],
   "source": [
    "movie_index=get_index_from_title(user_movie)"
   ]
  },
  {
   "cell_type": "code",
   "execution_count": 39,
   "metadata": {},
   "outputs": [],
   "source": [
    "similar_movies=list(enumerate(cosine_sim[movie_index]))"
   ]
  },
  {
   "cell_type": "code",
   "execution_count": 40,
   "metadata": {},
   "outputs": [],
   "source": [
    "sorted_similar_movie=sorted(similar_movies,key=lambda x:x[1],reverse=True)"
   ]
  },
  {
   "cell_type": "code",
   "execution_count": 41,
   "metadata": {},
   "outputs": [
    {
     "name": "stdout",
     "output_type": "stream",
     "text": [
      "TOP RECOMMENDATIONS FOR MOVIE :  Scarface\n",
      "1   Raising Cain\n",
      "2   Amidst the Devil's Wings\n",
      "3   Righteous Kill\n",
      "4   The Godfather: Part II\n",
      "5   The Untouchables\n",
      "6   10th & Wolf\n",
      "7   The Glimmer Man\n",
      "8   Kill the Messenger\n",
      "9   Limbo\n",
      "10   The Son of No One\n",
      "11   Cop Land\n",
      "12   Once Upon a Time in America\n",
      "13   Dick Tracy\n",
      "14   I Am Wrath\n",
      "15   Exit Wounds\n",
      "16   Up Close & Personal\n",
      "17   The Godfather\n",
      "18   Ocean's Thirteen\n",
      "19   A Most Violent Year\n",
      "20   Payback\n",
      "21   Donnie Brasco\n",
      "22   The Next Three Days\n",
      "23   Taxman\n",
      "24   Machete\n",
      "25   Mission: Impossible\n",
      "26   Legal Eagles\n",
      "27   City Hall\n",
      "28   Heist\n",
      "29   Femme Fatale\n",
      "30   The Yards\n",
      "31   Desperado\n",
      "32   Point Blank\n",
      "33   Zodiac\n",
      "34   The Score\n",
      "35   Mad City\n",
      "36   15 Minutes\n",
      "37   Pain & Gain\n",
      "38   Hitman\n",
      "39   Dark Blue\n",
      "40   Trash\n",
      "41   Code of Honor\n",
      "42   Chicago Overcoat\n",
      "43   What Lies Beneath\n",
      "44   Batman Returns\n",
      "45   Ronin\n",
      "46   Buffalo Soldiers\n",
      "47   Gangster's Paradise: Jerusalema\n",
      "48   Shooter\n",
      "49   Sleepers\n",
      "50   Blow Out\n"
     ]
    }
   ],
   "source": [
    "i=0\n",
    "print(\"TOP RECOMMENDATIONS FOR MOVIE : \",user_movie)\n",
    "for element in sorted_similar_movie:\n",
    "    if i!=0:\n",
    "        print(i,\" \",get_title_from_index(element[0]))\n",
    "    i=i+1\n",
    "    if i>50:\n",
    "        break"
   ]
  },
  {
   "cell_type": "code",
   "execution_count": null,
   "metadata": {},
   "outputs": [],
   "source": []
  }
 ],
 "metadata": {
  "kernelspec": {
   "display_name": "Python 3",
   "language": "python",
   "name": "python3"
  },
  "language_info": {
   "codemirror_mode": {
    "name": "ipython",
    "version": 3
   },
   "file_extension": ".py",
   "mimetype": "text/x-python",
   "name": "python",
   "nbconvert_exporter": "python",
   "pygments_lexer": "ipython3",
   "version": "3.7.4"
  }
 },
 "nbformat": 4,
 "nbformat_minor": 2
}
